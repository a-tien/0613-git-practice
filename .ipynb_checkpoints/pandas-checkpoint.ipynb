{
 "cells": [
  {
   "cell_type": "code",
   "execution_count": 2,
   "metadata": {},
   "outputs": [
    {
     "name": "stdout",
     "output_type": "stream",
     "text": [
      "2.1.4\n"
     ]
    }
   ],
   "source": [
    "import pandas as pd\n",
    "print(pd.__version__)"
   ]
  },
  {
   "cell_type": "code",
   "execution_count": 3,
   "metadata": {},
   "outputs": [
    {
     "name": "stdout",
     "output_type": "stream",
     "text": [
      "0    1\n",
      "1    5\n",
      "2    8\n",
      "dtype: int64\n",
      "a    1\n",
      "b    5\n",
      "c    8\n",
      "dtype: int64\n"
     ]
    }
   ],
   "source": [
    "# We can make list to the Series\n",
    "a = [1, 5, 8]\n",
    "# pd.Series() create a Pandas Series from list\n",
    "list_to_series = pd.Series(a)\n",
    "print(list_to_series)\n",
    "# add label\n",
    "list_to_series = pd.Series(a, index = [\"a\", \"b\", \"c\"])\n",
    "print(list_to_series)"
   ]
  },
  {
   "cell_type": "code",
   "execution_count": 4,
   "metadata": {},
   "outputs": [
    {
     "name": "stdout",
     "output_type": "stream",
     "text": [
      "day1    420\n",
      "day2    380\n",
      "day3    390\n",
      "dtype: int64\n"
     ]
    }
   ],
   "source": [
    "# key/value to the Series\n",
    "calories = {\"day1\": 420, \"day2\": 380, \"day3\": 390}\n",
    "key_to_series = pd.Series(calories)\n",
    "print(key_to_series)"
   ]
  },
  {
   "cell_type": "code",
   "execution_count": 18,
   "metadata": {},
   "outputs": [
    {
     "name": "stdout",
     "output_type": "stream",
     "text": [
      "{'calories': [420, 380, 390], 'duration': [50, 40, 45]}\n",
      "      calories  duration\n",
      "Day1       420        50\n",
      "Day2       380        40\n",
      "Day3       390        45\n"
     ]
    }
   ],
   "source": [
    "# Create DataFrame\n",
    "data = {\n",
    "  \"calories\": [420, 380, 390],\n",
    "  \"duration\": [50, 40, 45]\n",
    "}\n",
    "df = pd.DataFrame(data, index = [\"Day1\", \"Day2\", \"Day3\"])\n",
    "print(data)\n",
    "print(df)"
   ]
  },
  {
   "cell_type": "code",
   "execution_count": 21,
   "metadata": {},
   "outputs": [
    {
     "name": "stdout",
     "output_type": "stream",
     "text": [
      "calories    420\n",
      "duration     50\n",
      "Name: Day1, dtype: int64\n",
      "      calories  duration\n",
      "Day1       420        50\n",
      "Day2       380        40\n"
     ]
    }
   ],
   "source": [
    "print(df.loc[\"Day1\"]) # find the rows, returns a Series\n",
    "print(df.loc[[\"Day1\", \"Day2\"]]) # Use [] will be DataFrame"
   ]
  },
  {
   "cell_type": "code",
   "execution_count": null,
   "metadata": {},
   "outputs": [],
   "source": []
  }
 ],
 "metadata": {
  "kernelspec": {
   "display_name": "Python 3 (ipykernel)",
   "language": "python",
   "name": "python3"
  },
  "language_info": {
   "codemirror_mode": {
    "name": "ipython",
    "version": 3
   },
   "file_extension": ".py",
   "mimetype": "text/x-python",
   "name": "python",
   "nbconvert_exporter": "python",
   "pygments_lexer": "ipython3",
   "version": "3.11.7"
  }
 },
 "nbformat": 4,
 "nbformat_minor": 4
}
